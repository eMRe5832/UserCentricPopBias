{
 "cells": [
  {
   "cell_type": "code",
   "execution_count": null,
   "metadata": {},
   "outputs": [],
   "source": [
    "import sys\n",
    "import os\n",
    "import cornac\n",
    "import papermill as pm\n",
    "import surprise\n",
    "import scrapbook as sb\n",
    "import pandas as pd\n",
    "import numpy as np\n",
    "from recommenders.datasets import movielens\n",
    "from cornac.datasets import movielens\n",
    "from cornac.eval_methods import RatioSplit\n",
    "from recommenders.datasets.python_splitters import python_random_split\n",
    "from recommenders.evaluation.python_evaluation import map_at_k, ndcg_at_k, precision_at_k, recall_at_k\n",
    "from recommenders.models.cornac.cornac_utils import predict_ranking, predict\n",
    "from recommenders.utils.timer import Timer\n",
    "from recommenders.utils.constants import SEED\n",
    "import time\n",
    "from tqdm import tqdm\n",
    "from numpy.linalg import norm\n",
    "\n",
    "print(\"System version: {}\".format(sys.version))\n",
    "print(\"Cornac version: {}\".format(cornac.__version__))\n",
    "print(\"Pandas version: {}\".format(pd.__version__))"
   ]
  },
  {
   "cell_type": "code",
   "execution_count": null,
   "metadata": {},
   "outputs": [],
   "source": [
    "## Load dataset\n",
    "# Select a dataset (MLM, DB, Dianping_1&2, Yelp) from Data folder\n",
    "data=pd.read_csv(\"Data\\DB.txt\", sep='\\t', names=[\"user_id\", \"item_id\", \"rating\"])\n",
    "data.head()\n"
   ]
  },
  {
   "cell_type": "code",
   "execution_count": null,
   "metadata": {},
   "outputs": [],
   "source": [
    "## Construct trainset with object from Dataset class of cornac\n",
    "\n",
    "train_set = cornac.data.Dataset.from_uir(data.itertuples(index=False), seed=SEED)\n",
    "\n",
    "print('Number of users: {}'.format(train_set.num_users))\n",
    "print('Number of items: {}'.format(train_set.num_items))"
   ]
  },
  {
   "cell_type": "code",
   "execution_count": null,
   "metadata": {},
   "outputs": [],
   "source": [
    "# Defination of recommendation model (Select one)\n",
    "\n",
    "mmmf = cornac.models.MMMF(k=10, max_iter=200, learning_rate=0.01, verbose=True).fit(train_set)\n",
    "PredictionsMMMF = predict_ranking(mmmf, data, usercol='user_id', itemcol='item_id',remove_seen=False)\n",
    "PredictionsMMMF.to_csv(r'Predictions\\DB\\MMMF.txt', sep='\\t')\n",
    "\n",
    "# wmf=cornac.models.WMF(k=50, max_iter=50, learning_rate=0.001, lambda_u=0.01, lambda_v=0.01, verbose=True, seed=123).fit(train_set)\n",
    "# PredictionsWMF = predict_ranking(wmf, data, usercol='user_id', itemcol='item_id',remove_seen=False)\n",
    "# PredictionsWMF.to_csv(r'Predictions\\Yelp\\WMF.txt', sep='\\t')\n",
    "\n",
    "# hpf=cornac.models.HPF(k=5, seed=42, hierarchical=False).fit(train_set)\n",
    "# PredictionsHPF = predict_ranking(hpf, data, usercol='user_id', itemcol='item_id',remove_seen=False)\n",
    "# PredictionsHPF.to_csv(r'Predictions\\Dianping\\HPF_2.txt', sep='\\t')\n",
    "\n",
    "# wbpr = cornac.models.WBPR(k=50, max_iter=200, learning_rate=0.001, lambda_reg=0.001, verbose=True).fit(train_set)\n",
    "# PredictionsWBPR = predict_ranking(wbpr, data, usercol='user_id', itemcol='item_id',remove_seen=False)\n",
    "# PredictionsWBPR.to_csv(r'Predictions\\Yelp\\WBPR.txt', sep='\\t')\n",
    "\n",
    "# ibpr = cornac.models.IBPR(k=20, max_iter=10, verbose=True).fit(train_set)\n",
    "# PredictionsIBPR = predict_ranking(ibpr, data, usercol='user_id', itemcol='item_id',remove_seen=False)\n",
    "# PredictionsIBPR.to_csv(r'Predictions\\Yelp\\IBPR.txt', sep='\\t')\n",
    "\n",
    "# skm = cornac.models.SKMeans(k=5, max_iter=100, tol=1e-10, seed=42).fit(train_set)\n",
    "# PredictionsSKM = predict_ranking(skm, data, usercol='user_id', itemcol='item_id',remove_seen=False)\n",
    "# PredictionsSKM.to_csv(r'Predictions\\Yelp\\SKM.txt', sep='\\t')\n",
    "\n",
    "# neumf=cornac.models.NeuMF(num_factors=8, layers=[32, 16, 8], act_fn=\"tanh\", num_epochs=1, num_neg=3, batch_size=256, lr=0.001, seed=42, verbose=True).fit(train_set)\n",
    "# PredictionsNEUMF = predict_ranking(neumf, data, usercol='user_id', itemcol='item_id',remove_seen=False)\n",
    "# PredictionsNEUMF.to_csv(r'Predictions\\Yelp\\NEUMF.txt', sep='\\t')\n",
    "\n",
    "# vaeCF=cornac.models.VAECF(k=10, autoencoder_structure=[20], act_fn=\"tanh\", likelihood=\"mult\", n_epochs=100, batch_size=100, learning_rate=0.001, beta=1.0, seed=123, use_gpu=True, verbose=True).fit(train_set)\n",
    "# PredictionsVAECF = predict_ranking(vaeCF, data, usercol='user_id', itemcol='item_id',remove_seen=False)\n",
    "# PredictionsVAECF.to_csv(r'Predictions\\Yelp\\VAECF.txt', sep='\\t')\n",
    "\n"
   ]
  }
 ],
 "metadata": {
  "kernelspec": {
   "display_name": "Python 3.7.13 ('microsoftNew')",
   "language": "python",
   "name": "python3"
  },
  "language_info": {
   "codemirror_mode": {
    "name": "ipython",
    "version": 3
   },
   "file_extension": ".py",
   "mimetype": "text/x-python",
   "name": "python",
   "nbconvert_exporter": "python",
   "pygments_lexer": "ipython3",
   "version": "3.7.13"
  },
  "orig_nbformat": 4,
  "vscode": {
   "interpreter": {
    "hash": "79cd2d9cb29ac3499ff3e0b218127fd0c8a639126073c54a75487db5d855a8ee"
   }
  }
 },
 "nbformat": 4,
 "nbformat_minor": 2
}
