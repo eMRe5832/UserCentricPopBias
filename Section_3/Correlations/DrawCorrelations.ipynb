{
 "cells": [
  {
   "cell_type": "code",
   "execution_count": 9,
   "metadata": {},
   "outputs": [
    {
     "data": {
      "text/html": [
       "<div>\n",
       "<style scoped>\n",
       "    .dataframe tbody tr th:only-of-type {\n",
       "        vertical-align: middle;\n",
       "    }\n",
       "\n",
       "    .dataframe tbody tr th {\n",
       "        vertical-align: top;\n",
       "    }\n",
       "\n",
       "    .dataframe thead th {\n",
       "        text-align: right;\n",
       "    }\n",
       "</style>\n",
       "<table border=\"1\" class=\"dataframe\">\n",
       "  <thead>\n",
       "    <tr style=\"text-align: right;\">\n",
       "      <th></th>\n",
       "      <th>Size</th>\n",
       "      <th>Mean</th>\n",
       "      <th>Anomaly</th>\n",
       "      <th>Deviation</th>\n",
       "      <th>Entropy</th>\n",
       "    </tr>\n",
       "  </thead>\n",
       "  <tbody>\n",
       "    <tr>\n",
       "      <th>0</th>\n",
       "      <td>22</td>\n",
       "      <td>4.409091</td>\n",
       "      <td>0.776313</td>\n",
       "      <td>0.590326</td>\n",
       "      <td>1.219748</td>\n",
       "    </tr>\n",
       "    <tr>\n",
       "      <th>1</th>\n",
       "      <td>21</td>\n",
       "      <td>2.857143</td>\n",
       "      <td>0.975141</td>\n",
       "      <td>0.654654</td>\n",
       "      <td>1.378783</td>\n",
       "    </tr>\n",
       "    <tr>\n",
       "      <th>2</th>\n",
       "      <td>25</td>\n",
       "      <td>3.560000</td>\n",
       "      <td>0.572611</td>\n",
       "      <td>0.768115</td>\n",
       "      <td>1.370564</td>\n",
       "    </tr>\n",
       "    <tr>\n",
       "      <th>3</th>\n",
       "      <td>11</td>\n",
       "      <td>4.272727</td>\n",
       "      <td>0.677993</td>\n",
       "      <td>1.009050</td>\n",
       "      <td>1.617190</td>\n",
       "    </tr>\n",
       "    <tr>\n",
       "      <th>4</th>\n",
       "      <td>8</td>\n",
       "      <td>3.875000</td>\n",
       "      <td>0.647819</td>\n",
       "      <td>0.834523</td>\n",
       "      <td>1.561278</td>\n",
       "    </tr>\n",
       "  </tbody>\n",
       "</table>\n",
       "</div>"
      ],
      "text/plain": [
       "   Size      Mean   Anomaly  Deviation   Entropy\n",
       "0    22  4.409091  0.776313   0.590326  1.219748\n",
       "1    21  2.857143  0.975141   0.654654  1.378783\n",
       "2    25  3.560000  0.572611   0.768115  1.370564\n",
       "3    11  4.272727  0.677993   1.009050  1.617190\n",
       "4     8  3.875000  0.647819   0.834523  1.561278"
      ]
     },
     "execution_count": 9,
     "metadata": {},
     "output_type": "execute_result"
    }
   ],
   "source": [
    "import numpy as np; np.random.seed(0)\n",
    "import seaborn as sb\n",
    "import pandas as pd \n",
    "import matplotlib.pyplot as plt\n",
    "from matplotlib.colors import LinearSegmentedColormap\n",
    "import matplotlib as mpl\n",
    "from matplotlib.cm import ScalarMappable\n",
    "\n",
    "MLM = pd.read_csv(\"Data/Correlations/Dianping.csv\", delimiter=';')\n",
    "MLM.head()\n",
    "\n",
    "# DB = pd.read_csv(\"Data/Correlations/DB.csv\", delimiter=';')\n",
    "# DB.head\n",
    "\n",
    "# Yelp = pd.read_csv(\"Data/Correlations/Dianping.csv\", delimiter=';')\n",
    "# Yelp.head\n",
    "\n"
   ]
  },
  {
   "cell_type": "code",
   "execution_count": 10,
   "metadata": {},
   "outputs": [
    {
     "data": {
      "image/png": "[encoded data removed]",
      "text/plain": [
       "<Figure size 432x288 with 2 Axes>"
      ]
     },
     "metadata": {
      "needs_background": "light"
     },
     "output_type": "display_data"
    }
   ],
   "source": [
    "# MLM Figure\n",
    "# cmap=sb.diverging_palette(250, 250, s=90, n=100)\n",
    "# mask = np.triu(np.ones_like(MLM.corr()))\n",
    "# dataplot = sb.heatmap(MLM.corr(), cmap=cmap, annot=True, mask=mask, vmin=-1, vmax=1)\n",
    "\n",
    "# DB Figure\n",
    "# cmap=sb.diverging_palette(250, 250, s=90, n=100)\n",
    "# mask = np.triu(np.ones_like(DB.corr()))\n",
    "# dataplot = sb.heatmap(DB.corr(), cmap=cmap, annot=True, mask=mask, vmin=-1, vmax=1)\n",
    "\n",
    "# Yelp Figure\n",
    "# cmap=sb.diverging_palette(250, 250, s=90, n=100)\n",
    "# mask = np.triu(np.ones_like(Yelp.corr()))\n",
    "# dataplot = sb.heatmap(Yelp.corr(), cmap=cmap, annot=True, mask=mask, vmin=-1, vmax=1)\n",
    "\n",
    "# Yelp Figure\n",
    "cmap=sb.diverging_palette(250, 250, s=90, n=100)\n",
    "mask = np.triu(np.ones_like(MLM.corr()))\n",
    "dataplot = sb.heatmap(MLM.corr(), cmap=cmap, annot=True, mask=mask, vmin=-1, vmax=1)\n",
    " \n",
    "# displaying heatmap\n",
    "\n",
    "plt.savefig('Figures/Figures/Dianping/DianpingCorrelations.pdf', dpi=300, bbox_inches='tight')\n",
    "plt.show()"
   ]
  }
 ],
 "metadata": {
  "kernelspec": {
   "display_name": "Python 3.7.13 ('microsoftNew')",
   "language": "python",
   "name": "python3"
  },
  "language_info": {
   "codemirror_mode": {
    "name": "ipython",
    "version": 3
   },
   "file_extension": ".py",
   "mimetype": "text/x-python",
   "name": "python",
   "nbconvert_exporter": "python",
   "pygments_lexer": "ipython3",
   "version": "3.7.13"
  },
  "orig_nbformat": 4,
  "vscode": {
   "interpreter": {
    "hash": "79cd2d9cb29ac3499ff3e0b218127fd0c8a639126073c54a75487db5d855a8ee"
   }
  }
 },
 "nbformat": 4,
 "nbformat_minor": 2
}
